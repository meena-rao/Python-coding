{
 "cells": [
  {
   "cell_type": "code",
   "execution_count": 2,
   "id": "d6906c31",
   "metadata": {},
   "outputs": [
    {
     "name": "stdout",
     "output_type": "stream",
     "text": [
      "enter integers in sorted order1 3 4 5 6 78 89 90\n",
      "Given list of integers are [1, 3, 4, 5, 6, 78, 89, 90]\n",
      "enter key to be searched89\n",
      "key element 89 found at 7\n"
     ]
    }
   ],
   "source": [
    "#Biary Search recursion\n",
    "\"\"\" Binary Search using recursion\"\"\"\n",
    "list_arr = input(\"enter integers in sorted order\")\n",
    "list_arr = list_arr.split()\n",
    "list_arr = [int(i) for i in list_arr]\n",
    "\n",
    "print(\"Given list of integers are\", list_arr)\n",
    "\n",
    "key = int(input(\"enter key to be searched\"))\n",
    "\n",
    "\n",
    "def binary_s(a, key,low,high):\n",
    "    if(low>high):\n",
    "        return -1\n",
    "    mid = int((low+high)/2)\n",
    "    if a[mid]>key:\n",
    "        return(binary_s(a, key, low,mid-1))\n",
    "    elif a[mid]<key:\n",
    "        return(binary_s(a, key, mid+1, high))\n",
    "    else: \n",
    "        return mid\n",
    "\n",
    "index = binary_s(list_arr, key, 0, len(list_arr))\n",
    "if index < 0:\n",
    "    print(\"{} not found\".format(key))\n",
    "else:\n",
    "    print(\"key element {} found at {}\".format(key,index+1))\n"
   ]
  }
 ],
 "metadata": {
  "kernelspec": {
   "display_name": "Python 3",
   "language": "python",
   "name": "python3"
  },
  "language_info": {
   "codemirror_mode": {
    "name": "ipython",
    "version": 3
   },
   "file_extension": ".py",
   "mimetype": "text/x-python",
   "name": "python",
   "nbconvert_exporter": "python",
   "pygments_lexer": "ipython3",
   "version": "3.8.10"
  }
 },
 "nbformat": 4,
 "nbformat_minor": 5
}
