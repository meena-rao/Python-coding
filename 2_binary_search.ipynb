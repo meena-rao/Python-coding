{
 "cells": [
  {
   "cell_type": "markdown",
   "id": "0de366b4",
   "metadata": {},
   "source": [
    "### Binary Search "
   ]
  },
  {
   "cell_type": "code",
   "execution_count": 1,
   "id": "f7e9f1d0",
   "metadata": {},
   "outputs": [
    {
     "name": "stdout",
     "output_type": "stream",
     "text": [
      "Emter list of integers in sorted fashion2 3 4 5 6 7 8 10\n"
     ]
    }
   ],
   "source": [
    "arr = input(\"Emter list of integers in sorted fashion\")"
   ]
  },
  {
   "cell_type": "code",
   "execution_count": 4,
   "id": "90a27512",
   "metadata": {
    "scrolled": true
   },
   "outputs": [
    {
     "data": {
      "text/plain": [
       "'2 3 4 5 6 7 8 10'"
      ]
     },
     "execution_count": 4,
     "metadata": {},
     "output_type": "execute_result"
    }
   ],
   "source": [
    "arr"
   ]
  },
  {
   "cell_type": "code",
   "execution_count": 5,
   "id": "378ac020",
   "metadata": {},
   "outputs": [],
   "source": [
    "arr = arr.split()"
   ]
  },
  {
   "cell_type": "code",
   "execution_count": 6,
   "id": "794c6eb3",
   "metadata": {
    "scrolled": true
   },
   "outputs": [
    {
     "data": {
      "text/plain": [
       "['2', '3', '4', '5', '6', '7', '8', '10']"
      ]
     },
     "execution_count": 6,
     "metadata": {},
     "output_type": "execute_result"
    }
   ],
   "source": [
    "arr"
   ]
  },
  {
   "cell_type": "code",
   "execution_count": 7,
   "id": "350ca368",
   "metadata": {
    "scrolled": true
   },
   "outputs": [
    {
     "data": {
      "text/plain": [
       "[2, 3, 4, 5, 6, 7, 8, 10]"
      ]
     },
     "execution_count": 7,
     "metadata": {},
     "output_type": "execute_result"
    }
   ],
   "source": [
    "arr = [int(i) for i in arr]\n",
    "arr"
   ]
  },
  {
   "cell_type": "code",
   "execution_count": 21,
   "id": "247498ba",
   "metadata": {},
   "outputs": [
    {
     "name": "stdout",
     "output_type": "stream",
     "text": [
      "enter key element to be searched100\n"
     ]
    }
   ],
   "source": [
    "key = int(input(\"enter key element to be searched\"))"
   ]
  },
  {
   "cell_type": "code",
   "execution_count": 18,
   "id": "5bc80247",
   "metadata": {},
   "outputs": [],
   "source": [
    "def binary_s(inlist, key,low,high):\n",
    "    low = 0\n",
    "    high = len(inlist)-1\n",
    "    while low < high:\n",
    "        mid =int((low+high)/2)\n",
    "        if(inlist[mid] ==key):\n",
    "            return mid\n",
    "        elif inlist[mid]>key:\n",
    "            high = mid - 1\n",
    "        else:\n",
    "            low = mid+1\n",
    "    return -1               "
   ]
  },
  {
   "cell_type": "code",
   "execution_count": 22,
   "id": "5c29f866",
   "metadata": {},
   "outputs": [
    {
     "name": "stdout",
     "output_type": "stream",
     "text": [
      "100 not found in the givem list\n"
     ]
    }
   ],
   "source": [
    "\n",
    "index = binary_s(arr, key, low, high)\n",
    "if index <0:\n",
    "    print('{} not found in the givem list'.format(key))\n",
    "else:\n",
    "          print('{} is found in location {}'. format(key, index+1))"
   ]
  }
 ],
 "metadata": {
  "kernelspec": {
   "display_name": "Python 3",
   "language": "python",
   "name": "python3"
  },
  "language_info": {
   "codemirror_mode": {
    "name": "ipython",
    "version": 3
   },
   "file_extension": ".py",
   "mimetype": "text/x-python",
   "name": "python",
   "nbconvert_exporter": "python",
   "pygments_lexer": "ipython3",
   "version": "3.8.10"
  }
 },
 "nbformat": 4,
 "nbformat_minor": 5
}
