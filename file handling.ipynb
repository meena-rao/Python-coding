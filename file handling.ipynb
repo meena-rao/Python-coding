{
 "cells": [
  {
   "cell_type": "code",
   "execution_count": 2,
   "id": "bfd4b46b",
   "metadata": {},
   "outputs": [],
   "source": [
    "#Create a file, write mode is required\n",
    "f = open('C:\\\\temp\\\\sample.txt', 'w')"
   ]
  },
  {
   "cell_type": "code",
   "execution_count": 3,
   "id": "be5bf885",
   "metadata": {},
   "outputs": [
    {
     "data": {
      "text/plain": [
       "27"
      ]
     },
     "execution_count": 3,
     "metadata": {},
     "output_type": "execute_result"
    }
   ],
   "source": [
    "f.write(\"hello I am learning Python\\n\")"
   ]
  },
  {
   "cell_type": "code",
   "execution_count": 4,
   "id": "8aaba697",
   "metadata": {},
   "outputs": [],
   "source": [
    "f.close()"
   ]
  },
  {
   "cell_type": "code",
   "execution_count": 6,
   "id": "a7b6da87",
   "metadata": {},
   "outputs": [],
   "source": [
    "#append mode\n",
    "f =open('C:\\\\temp\\\\sample.txt', 'a')"
   ]
  },
  {
   "cell_type": "code",
   "execution_count": 7,
   "id": "9ab1640b",
   "metadata": {},
   "outputs": [
    {
     "data": {
      "text/plain": [
       "16"
      ]
     },
     "execution_count": 7,
     "metadata": {},
     "output_type": "execute_result"
    }
   ],
   "source": [
    "f.write(\"I also learn ML\\n\")"
   ]
  },
  {
   "cell_type": "code",
   "execution_count": 9,
   "id": "f5e19a34",
   "metadata": {},
   "outputs": [],
   "source": [
    "f.close()"
   ]
  },
  {
   "cell_type": "code",
   "execution_count": 10,
   "id": "7ee60350",
   "metadata": {},
   "outputs": [],
   "source": [
    "#Let us try read line by line, so read mode\n",
    "f =open('C:\\\\temp\\\\sample.txt', 'r')"
   ]
  },
  {
   "cell_type": "code",
   "execution_count": 11,
   "id": "dbf57f01",
   "metadata": {},
   "outputs": [
    {
     "name": "stdout",
     "output_type": "stream",
     "text": [
      "hello I am learning Python\n",
      "I also learn ML\n",
      "\n"
     ]
    }
   ],
   "source": [
    "print(f.read())"
   ]
  },
  {
   "cell_type": "code",
   "execution_count": 20,
   "id": "cb1af493",
   "metadata": {},
   "outputs": [
    {
     "name": "stdout",
     "output_type": "stream",
     "text": [
      "1 line : hello I am learning Python\n",
      "\n",
      "2 line : I also learn ML\n",
      "\n"
     ]
    }
   ],
   "source": [
    "#let us print line by line\n",
    "\n",
    "f =open('C:\\\\temp\\\\sample.txt', 'r')\n",
    "i =1\n",
    "for line in f:\n",
    "    print(i, 'line :', line)\n",
    "    i = i + 1\n",
    "f.close()"
   ]
  },
  {
   "cell_type": "code",
   "execution_count": 22,
   "id": "645c7c1f",
   "metadata": {},
   "outputs": [
    {
     "name": "stdout",
     "output_type": "stream",
     "text": [
      "['hello', 'I', 'am', 'learning', 'Python\\n']\n",
      "['I', 'also', 'learn', 'ML\\n']\n"
     ]
    }
   ],
   "source": [
    "f =open('C:\\\\temp\\\\sample.txt', 'r')\n",
    "for i in f:\n",
    "    token = i.split(' ')\n",
    "    print(token)\n"
   ]
  },
  {
   "cell_type": "code",
   "execution_count": 29,
   "id": "a9b30172",
   "metadata": {},
   "outputs": [
    {
     "name": "stdout",
     "output_type": "stream",
     "text": [
      "line 1 : 5 words\n",
      "line 2 : 4 words\n"
     ]
    }
   ],
   "source": [
    "f =open('C:\\\\temp\\\\sample.txt', 'r')\n",
    "j=1\n",
    "for li in f:\n",
    "    token = li.split(' ')\n",
    "    print('line', j, ':', len(token), \"words\")\n",
    "    j = j+1\n",
    "f.close()"
   ]
  },
  {
   "cell_type": "code",
   "execution_count": 39,
   "id": "b93b2fed",
   "metadata": {},
   "outputs": [
    {
     "name": "stdout",
     "output_type": "stream",
     "text": [
      "word count 5 : hello I am learning Python\n",
      "\n",
      "word count 4 : I also learn ML\n",
      "\n"
     ]
    }
   ],
   "source": [
    "#write word count along with line to new file\n",
    "f =open('C:\\\\temp\\\\sample.txt', 'r')\n",
    "f1 = open('C:\\\\temp\\\\result.txt', 'w')\n",
    "for i in f:\n",
    "    le =len(i.split(\" \"))\n",
    "    f1.write('word cout'+ str(le) + i )\n",
    "    print(\"word count\",  str(le),  \":\", i)\n",
    "f.close()\n",
    "f1.close()"
   ]
  },
  {
   "cell_type": "code",
   "execution_count": 40,
   "id": "6657aa9e",
   "metadata": {},
   "outputs": [
    {
     "name": "stdout",
     "output_type": "stream",
     "text": [
      "word cout5hello I am learning Python\n",
      "word cout4I also learn ML\n",
      "\n"
     ]
    }
   ],
   "source": [
    "#with if we use then it closes file automatically \n",
    "with open(\"C:\\\\temp\\\\result.txt\", 'r') as f:\n",
    "    print(f.read())\n"
   ]
  },
  {
   "cell_type": "code",
   "execution_count": 42,
   "id": "fc78d28b",
   "metadata": {},
   "outputs": [
    {
     "name": "stdout",
     "output_type": "stream",
     "text": [
      "word cout5hello I am learning Python\n",
      "\n",
      "word cout4I also learn ML\n",
      "\n"
     ]
    },
    {
     "data": {
      "text/plain": [
       "True"
      ]
     },
     "execution_count": 42,
     "metadata": {},
     "output_type": "execute_result"
    }
   ],
   "source": [
    "#check for close\n",
    "with open(\"C:\\\\temp\\\\result.txt\", \"r\") as f:\n",
    "    for i in f:\n",
    "        print(i)   \n",
    "f.closed"
   ]
  }
 ],
 "metadata": {
  "kernelspec": {
   "display_name": "Python 3",
   "language": "python",
   "name": "python3"
  },
  "language_info": {
   "codemirror_mode": {
    "name": "ipython",
    "version": 3
   },
   "file_extension": ".py",
   "mimetype": "text/x-python",
   "name": "python",
   "nbconvert_exporter": "python",
   "pygments_lexer": "ipython3",
   "version": "3.8.10"
  }
 },
 "nbformat": 4,
 "nbformat_minor": 5
}
