{
 "cells": [
  {
   "cell_type": "code",
   "execution_count": 162,
   "id": "bcb9252e",
   "metadata": {},
   "outputs": [],
   "source": [
    "class water:\n",
    "    \n",
    "    def __init__(self, apartment_type):\n",
    "        '''Constructor'''\n",
    "        try:\n",
    "            self.corp_per_litre = 1\n",
    "            self.bore_per_litre = 1.5\n",
    "            self.tank_water_total_amount = 0            \n",
    "\n",
    "            self.corp_water_total = 0\n",
    "            self.bore_water_total = 0\n",
    "            self.tank_water_total = 0\n",
    "\n",
    "            self.tank_per_litre_0_500L = 2\n",
    "            self.tank_per_litre_501_1500L = 3\n",
    "            self.tank_per_litre_1501_3000L = 5\n",
    "            self.tank_per_litre_30001L_and_more = 8\n",
    "\n",
    "            self.guests = 0\n",
    "            self.Total_water_consumed_in_liters = 0\n",
    "\n",
    "            self.apartment_type = apartment_type\n",
    "            if self.apartment_type == 2:\n",
    "                self.water_per_month = 900  # 3*10*30\n",
    "            elif self.apartment_type == 3:\n",
    "                self.water_per_month = 1500  # 5*10*30\n",
    "            else:\n",
    "                print(\"Wrong information of apartment_type, please give correct input\")\n",
    "                self.water_per_month = 0\n",
    "        except Exception as E:\n",
    "            print('Went wrong', E)\n",
    "            \n",
    "            \n",
    "            \n",
    "    def allot_water(self,apartment_type, ratio):\n",
    "        \n",
    "        '''Allots the water from corporation and borewell based on the apartment type and ratio passed.\n",
    "        Here the ratio is always of the format Corporation Water : Borewell Water.\n",
    "        [USAGE] Ex:  allot_water(2,'1:5')'''\n",
    "        try:            \n",
    "            ratio_corp = int(ratio.split(':')[0])\n",
    "            ratio_bore = int(ratio.split(':')[1])\n",
    "\n",
    "            self.corp_water_total = round(self.water_per_month / (ratio_corp + ratio_bore) * ratio_corp)\n",
    "            self.bore_water_total = round(self.water_per_month / (ratio_corp + ratio_bore) * ratio_bore)\n",
    "            \n",
    "            print('Amount of corporation water alloted for current month:', self.corp_water_total, 'Liters')\n",
    "            print('Amount of bore water alloted for current month :', self.bore_water_total, 'Liters')            \n",
    "\n",
    "        except Exception as E:\n",
    "            print(\"Exception caught in allot_water ():\", E)\n",
    "            \n",
    "            \n",
    "\n",
    "    def display_info(self):\n",
    "        try:           \n",
    "            print('tank_per_litre_0_500L= {}Rs\\nTank_per_litre_501_1500L= {}Rs\\nTank_per_litre_1501_3000L= {}Rs\\nTank_per_litre_30001ML_and_more= {}Rs'.format(self.tank_per_litre_0_500L,\n",
    "                                                                   self.tank_per_litre_501_1500L,\n",
    "                                                                   self.tank_per_litre_1501_3000L,\n",
    "                                                                   self.tank_per_litre_30001L_and_more))\n",
    "\n",
    "        except Exception as E:\n",
    "            print(\"Error occurred\", E)\n",
    "\n",
    "\n",
    "    def Add_Guests(self, number_of_guests):\n",
    "        '''Adds the number of guests to a house'''\n",
    "        try:\n",
    "            self.guests = self.guests + number_of_guests\n",
    "            tank_water_need = int(input('Mention water need in liters '))\n",
    "            \n",
    "            if tank_water_need < 501:\n",
    "                print('Per litre Price:', self.tank_per_litre_0_500L,'Rs')\n",
    "                price = self.tank_per_litre_0_500L * tank_water_need\n",
    "                \n",
    "            elif tank_water_need < 1501:\n",
    "                print('Per litre Price:', self.tank_per_litre_501_1500L,'Rs')\n",
    "                price = self.tank_per_litre_501_1500L * tank_water_need\n",
    "                \n",
    "            elif tank_water_need < 3001:\n",
    "                print('Per litre Price:', self.tank_per_litre_1501_3000L,'Rs')\n",
    "                price = self.tank_per_litre_1501_3000L * tank_water_need\n",
    "                \n",
    "            else:\n",
    "                price = self.tank_per_litre_30001L_and_more * tank_water_need\n",
    "                print('Per litre Price:', self.tank_per_litre_30001L_and_more,'Rs')\n",
    "\n",
    "            print('Current charges: ', price, 'Rs')\n",
    "            print(\"Balance Amount wrt. tank Water:\", self.tank_water_total_amount, 'Rs')\n",
    "            self.tank_water_total = self.tank_water_total + tank_water_need\n",
    "            self.tank_water_total_amount = self.tank_water_total_amount + price\n",
    "\n",
    "            #print(\"Total guests in current month: \", self.guests)\n",
    "            #print(\"Total water demand for guest in the current month:{} Liters\".format(self.tank_water_total))\n",
    "            print('Updted Tank water amount for current month: ', self.tank_water_total_amount, 'Rs')\n",
    "\n",
    "        except Exception as E:\n",
    "            print(\"Error message\", E)\n",
    "            \n",
    "            \n",
    "\n",
    "    def Bill(self):\n",
    "        '''Prints the total water consumed in litres and the total cost,\n",
    "        after cumulatively adding up all the guests cost to the bill. '''\n",
    "\n",
    "        try:\n",
    "            self.Total_water_consumed_in_liters=self.Total_water_consumed_in_liters+self.corp_water_total+self.bore_water_total+self.tank_water_total\n",
    "\n",
    "            amount = self.corp_water_total * self.corp_per_litre + self.bore_water_total * self.bore_per_litre + self.tank_water_total_amount\n",
    "           \n",
    "            print(\"FINAL BILL\")\n",
    "            print(self.Total_water_consumed_in_liters,':', amount)\n",
    "            \n",
    "            print(\"\\nBILL DETAILS:\")\n",
    "            \n",
    "            print('***********************************************************')\n",
    "            \n",
    "            print('Apartment Type                :', self.apartment_type, 'BHK\\n')            \n",
    "            \n",
    "            print('Alloted Corporation water     :', self.corp_water_total,'Liters\\n')\n",
    "            \n",
    "            print('Alloted Bore water             :', self.bore_water_total, 'Liters\\n')\n",
    "            \n",
    "            print('Corporation water Amount ({} per Litre) : {}\\n'. format(self.corp_per_litre, self.corp_water_total))\n",
    "            \n",
    "            print('Bore water Amount ({} per Litre) : {}\\n'. format(self.bore_per_litre, self.bore_water_total*self.bore_per_litre))\n",
    "            \n",
    "            print('Total Tank water consumed       :', self.tank_water_total, 'Liters\\n')\n",
    "            \n",
    "            print('Tank water Price (total)        :', self.tank_water_total_amount, 'Rs\\n')          \n",
    "            \n",
    "            print('Total water consumed in liters    :', self.Total_water_consumed_in_liters, 'Liters\\n')\n",
    "            \n",
    "            print('Total cost(Rs)                   :', amount,'\\n')\n",
    "            \n",
    "            print(\"\\n[INFO]\\n\")\n",
    "            \n",
    "            self.display_info()\n",
    "            \n",
    "            print('***********************************************************')\n",
    "            \n",
    "        except Exception as E:\n",
    "            print(\"Exception caught:\", E)"
   ]
  },
  {
   "cell_type": "code",
   "execution_count": 163,
   "id": "95134991",
   "metadata": {},
   "outputs": [
    {
     "name": "stdout",
     "output_type": "stream",
     "text": [
      "Amount of corporation water alloted for current month: 150 Liters\n",
      "Amount of bore water alloted for current month : 750 Liters\n"
     ]
    }
   ],
   "source": [
    "ob = water(2)\n",
    "ob.allot_water(2, '1:5')"
   ]
  },
  {
   "cell_type": "code",
   "execution_count": 164,
   "id": "6150fb89",
   "metadata": {},
   "outputs": [
    {
     "name": "stdout",
     "output_type": "stream",
     "text": [
      "Mention water need in liters 500\n",
      "Per litre Price: 2 Rs\n",
      "Current charges:  1000 Rs\n",
      "Balance Amount wrt. tank Water: 0 Rs\n",
      "Updted Tank water amount for current month:  1000 Rs\n"
     ]
    }
   ],
   "source": [
    "ob.Add_Guests(1)"
   ]
  },
  {
   "cell_type": "code",
   "execution_count": 165,
   "id": "3c745d84",
   "metadata": {
    "scrolled": true
   },
   "outputs": [
    {
     "name": "stdout",
     "output_type": "stream",
     "text": [
      "Mention water need in liters 1000\n",
      "Per litre Price: 3 Rs\n",
      "Current charges:  3000 Rs\n",
      "Balance Amount wrt. tank Water: 1000 Rs\n",
      "Updted Tank water amount for current month:  4000 Rs\n"
     ]
    }
   ],
   "source": [
    "ob. Add_Guests(3)"
   ]
  },
  {
   "cell_type": "code",
   "execution_count": 166,
   "id": "c3ae235c",
   "metadata": {
    "scrolled": true
   },
   "outputs": [
    {
     "name": "stdout",
     "output_type": "stream",
     "text": [
      "Mention water need in liters 1501\n",
      "Per litre Price: 5 Rs\n",
      "Current charges:  7505 Rs\n",
      "Balance Amount wrt. tank Water: 4000 Rs\n",
      "Updted Tank water amount for current month:  11505 Rs\n"
     ]
    }
   ],
   "source": [
    "ob.Add_Guests(2)"
   ]
  },
  {
   "cell_type": "code",
   "execution_count": 167,
   "id": "20e44a1b",
   "metadata": {
    "scrolled": true
   },
   "outputs": [
    {
     "name": "stdout",
     "output_type": "stream",
     "text": [
      "Mention water need in liters 3001\n",
      "Per litre Price: 8 Rs\n",
      "Current charges:  24008 Rs\n",
      "Balance Amount wrt. tank Water: 11505 Rs\n",
      "Updted Tank water amount for current month:  35513 Rs\n"
     ]
    }
   ],
   "source": [
    "ob.Add_Guests(3)"
   ]
  },
  {
   "cell_type": "code",
   "execution_count": 168,
   "id": "e348505f",
   "metadata": {
    "scrolled": true
   },
   "outputs": [
    {
     "name": "stdout",
     "output_type": "stream",
     "text": [
      "FINAL BILL\n",
      "6902 : 36788.0\n",
      "\n",
      "BILL DETAILS:\n",
      "***********************************************************\n",
      "Apartment Type                : 2 BHK\n",
      "\n",
      "Alloted Corporation water     : 150 Liters\n",
      "\n",
      "Alloted Bore water             : 750 Liters\n",
      "\n",
      "Corporation water Amount (1 per Litre) : 150\n",
      "\n",
      "Bore water Amount (1.5 per Litre) : 1125.0\n",
      "\n",
      "Total Tank water consumed       : 6002 Liters\n",
      "\n",
      "Tank water Price (total)        : 35513 Rs\n",
      "\n",
      "Total water consumed in liters    : 6902 Liters\n",
      "\n",
      "Total cost(Rs)                   : 36788.0 \n",
      "\n",
      "\n",
      "[INFO]\n",
      "\n",
      "tank_per_litre_0_500L= 2Rs\n",
      "Tank_per_litre_501_1500L= 3Rs\n",
      "Tank_per_litre_1501_3000L= 5Rs\n",
      "Tank_per_litre_30001ML_and_more= 8Rs\n",
      "***********************************************************\n"
     ]
    }
   ],
   "source": [
    "ob.Bill()"
   ]
  },
  {
   "cell_type": "code",
   "execution_count": 169,
   "id": "0826e9fd",
   "metadata": {},
   "outputs": [],
   "source": [
    "ob2 = water(3)"
   ]
  },
  {
   "cell_type": "code",
   "execution_count": 170,
   "id": "e7173e4b",
   "metadata": {
    "scrolled": true
   },
   "outputs": [
    {
     "name": "stdout",
     "output_type": "stream",
     "text": [
      "Amount of corporation water alloted for current month: 600 Liters\n",
      "Amount of bore water alloted for current month : 900 Liters\n"
     ]
    }
   ],
   "source": [
    "ob2.allot_water(3, '2:3')"
   ]
  },
  {
   "cell_type": "code",
   "execution_count": 171,
   "id": "c47ceba3",
   "metadata": {},
   "outputs": [
    {
     "name": "stdout",
     "output_type": "stream",
     "text": [
      "FINAL BILL\n",
      "1500 : 1950.0\n",
      "\n",
      "BILL DETAILS:\n",
      "***********************************************************\n",
      "Apartment Type                : 3 BHK\n",
      "\n",
      "Alloted Corporation water     : 600 Liters\n",
      "\n",
      "Alloted Bore water             : 900 Liters\n",
      "\n",
      "Corporation water Amount (1 per Litre) : 600\n",
      "\n",
      "Bore water Amount (1.5 per Litre) : 1350.0\n",
      "\n",
      "Total Tank water consumed       : 0 Liters\n",
      "\n",
      "Tank water Price (total)        : 0 Rs\n",
      "\n",
      "Total water consumed in liters    : 1500 Liters\n",
      "\n",
      "Total cost(Rs)                   : 1950.0 \n",
      "\n",
      "\n",
      "[INFO]\n",
      "\n",
      "tank_per_litre_0_500L= 2Rs\n",
      "Tank_per_litre_501_1500L= 3Rs\n",
      "Tank_per_litre_1501_3000L= 5Rs\n",
      "Tank_per_litre_30001ML_and_more= 8Rs\n",
      "***********************************************************\n"
     ]
    }
   ],
   "source": [
    "ob2.Bill()"
   ]
  }
 ],
 "metadata": {
  "kernelspec": {
   "display_name": "Python 3 (ipykernel)",
   "language": "python",
   "name": "python3"
  },
  "language_info": {
   "codemirror_mode": {
    "name": "ipython",
    "version": 3
   },
   "file_extension": ".py",
   "mimetype": "text/x-python",
   "name": "python",
   "nbconvert_exporter": "python",
   "pygments_lexer": "ipython3",
   "version": "3.9.7"
  }
 },
 "nbformat": 4,
 "nbformat_minor": 5
}
